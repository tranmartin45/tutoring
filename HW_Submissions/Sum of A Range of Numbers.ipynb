{
 "cells": [
  {
   "cell_type": "code",
   "execution_count": null,
   "id": "current-affiliate",
   "metadata": {
    "scrolled": true
   },
   "outputs": [],
   "source": [
    "p = input(\"Integer:\")\n",
    "def add_it_up(p):\n",
    "    a = 1\n",
    "    s = 0\n",
    "    try:\n",
    "        p = int(p)\n",
    "        pl = p + 1\n",
    "        for i in range(pl):\n",
    "            s += a\n",
    "            a += 1\n",
    "            if a == pl:\n",
    "                print(s)\n",
    "    except ValueError:\n",
    "        print(\"Sorry, this is a float. Input a integer instead.\")\n",
    "add_it_up(p)"
   ]
  },
  {
   "cell_type": "code",
   "execution_count": null,
   "id": "legal-selection",
   "metadata": {},
   "outputs": [],
   "source": [
    "def add_it_up2(p):\n",
    "    a = 1\n",
    "    s = 0\n",
    "    if type(p) == float:\n",
    "        print(\"Sorry, this is a float. Input a integer instead.\")\n",
    "    else:\n",
    "        for i in range(p + 1):\n",
    "            s += a\n",
    "            a += 1\n",
    "            if a == p + 1:\n",
    "                print(s)"
   ]
  }
 ],
 "metadata": {
  "kernelspec": {
   "display_name": "Python 3",
   "language": "python",
   "name": "python3"
  },
  "language_info": {
   "codemirror_mode": {
    "name": "ipython",
    "version": 3
   },
   "file_extension": ".py",
   "mimetype": "text/x-python",
   "name": "python",
   "nbconvert_exporter": "python",
   "pygments_lexer": "ipython3",
   "version": "3.8.8"
  }
 },
 "nbformat": 4,
 "nbformat_minor": 5
}
