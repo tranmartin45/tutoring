{
 "cells": [
  {
   "cell_type": "code",
   "execution_count": 10,
   "metadata": {},
   "outputs": [],
   "source": [
    "import sympy\n",
    "o1 = [4, 10, 10, 22, 5, 3, 6, 7, 8]\n",
    "o2 = [10, 4, 33, 1, 5, 5, 5, 6, 5]\n",
    "\n",
    "a = []\n",
    "b = []\n",
    "\n",
    "for i in o1:\n",
    "    if i not in a:\n",
    "        a.append(i)\n",
    "        \n",
    "for i in o2:\n",
    "    if i not in b:\n",
    "        b.append(i)\n"
   ]
  },
  {
   "cell_type": "code",
   "execution_count": 11,
   "metadata": {},
   "outputs": [
    {
     "data": {
      "text/plain": [
       "[4, 10, 22, 5, 3, 6, 7, 8]"
      ]
     },
     "execution_count": 11,
     "metadata": {},
     "output_type": "execute_result"
    }
   ],
   "source": [
    "a"
   ]
  },
  {
   "cell_type": "code",
   "execution_count": 18,
   "metadata": {},
   "outputs": [
    {
     "data": {
      "text/plain": [
       "[10, 4, 33, 1, 5, 6]"
      ]
     },
     "execution_count": 18,
     "metadata": {},
     "output_type": "execute_result"
    }
   ],
   "source": [
    "b"
   ]
  },
  {
   "cell_type": "code",
   "execution_count": 17,
   "metadata": {},
   "outputs": [
    {
     "name": "stdout",
     "output_type": "stream",
     "text": [
      "4 10\n",
      "0\n",
      "4 4\n",
      "1\n",
      "10 10\n",
      "0\n",
      "22 10\n",
      "0\n",
      "22 4\n",
      "1\n",
      "22 33\n",
      "2\n",
      "22 1\n",
      "3\n",
      "22 5\n",
      "4\n",
      "22 6\n",
      "5\n",
      "5 10\n",
      "0\n",
      "5 4\n",
      "1\n",
      "5 33\n",
      "2\n",
      "5 1\n",
      "3\n",
      "5 5\n",
      "4\n",
      "3 10\n",
      "0\n",
      "3 4\n",
      "1\n",
      "3 33\n",
      "2\n",
      "3 1\n",
      "3\n",
      "3 5\n",
      "4\n",
      "3 6\n",
      "5\n",
      "6 10\n",
      "0\n",
      "6 4\n",
      "1\n",
      "6 33\n",
      "2\n",
      "6 1\n",
      "3\n",
      "6 5\n",
      "4\n",
      "6 6\n",
      "5\n",
      "7 10\n",
      "0\n",
      "7 4\n",
      "1\n",
      "7 33\n",
      "2\n",
      "7 1\n",
      "3\n",
      "7 5\n",
      "4\n",
      "7 6\n",
      "5\n",
      "8 10\n",
      "0\n",
      "8 4\n",
      "1\n",
      "8 33\n",
      "2\n",
      "8 1\n",
      "3\n",
      "8 5\n",
      "4\n",
      "8 6\n",
      "5\n",
      "Done\n",
      "[4, 10, 5, 6]\n"
     ]
    }
   ],
   "source": [
    "c = []\n",
    "ac = 0\n",
    "bc = 0\n",
    "cd = True\n",
    "\n",
    "while cd is True:\n",
    "    try:\n",
    "        print(a[ac], b[bc])\n",
    "        print(bc)\n",
    "        if a[ac] == b[bc]:\n",
    "            c.append(b[bc])\n",
    "            ac += 1\n",
    "            bc = 0\n",
    "        elif bc == (len(b)-1):\n",
    "            ac += 1\n",
    "            bc = 0\n",
    "        else:\n",
    "            bc+=1\n",
    "    except IndexError:\n",
    "        print(\"Done\")\n",
    "        cd = False\n",
    "        print(c)\n",
    "    \n",
    "#test one variable through the other\n",
    "#else test next variable throughout the other"
   ]
  },
  {
   "cell_type": "code",
   "execution_count": null,
   "metadata": {},
   "outputs": [],
   "source": []
  }
 ],
 "metadata": {
  "kernelspec": {
   "display_name": "Python 3",
   "language": "python",
   "name": "python3"
  },
  "language_info": {
   "codemirror_mode": {
    "name": "ipython",
    "version": 3
   },
   "file_extension": ".py",
   "mimetype": "text/x-python",
   "name": "python",
   "nbconvert_exporter": "python",
   "pygments_lexer": "ipython3",
   "version": "3.8.5"
  }
 },
 "nbformat": 4,
 "nbformat_minor": 5
}
