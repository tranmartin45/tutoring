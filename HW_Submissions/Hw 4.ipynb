{
 "cells": [
  {
   "cell_type": "code",
   "execution_count": 5,
   "id": "level-indian",
   "metadata": {},
   "outputs": [
    {
     "name": "stdout",
     "output_type": "stream",
     "text": [
      "Done\n",
      "[4, 10]\n"
     ]
    }
   ],
   "source": [
    "import sympy\n",
    "o1 = [4, 10, 10, 22,]\n",
    "o2 = [10, 4, 33, 1, 5]\n",
    "if len(o1) < len(o2):\n",
    "    b = o2\n",
    "    a = o1\n",
    "else:\n",
    "    b = o1\n",
    "    a = o2\n",
    "c = []\n",
    "e = []\n",
    "ac = 0\n",
    "bc = 0\n",
    "cd = True\n",
    "while cd is True:\n",
    "    try:\n",
    "        if a[ac] == b[bc]:\n",
    "            c.append(b[bc])\n",
    "            ac+=1\n",
    "            bc = 0\n",
    "        elif bc == (len(b) + 1):\n",
    "            ac+=1\n",
    "            bc = 0\n",
    "        else:\n",
    "            bc+=1\n",
    "    except IndexError:\n",
    "        print(\"Done\")\n",
    "        for i in c:\n",
    "            if i not in e:\n",
    "                e.append(i)\n",
    "        print(e)\n",
    "        cd = False\n",
    "    \n",
    "#test one variable through the other\n",
    "#else test next variable throughout the other"
   ]
  },
  {
   "cell_type": "code",
   "execution_count": null,
   "id": "charitable-repository",
   "metadata": {},
   "outputs": [],
   "source": []
  }
 ],
 "metadata": {
  "kernelspec": {
   "display_name": "Python 3",
   "language": "python",
   "name": "python3"
  },
  "language_info": {
   "codemirror_mode": {
    "name": "ipython",
    "version": 3
   },
   "file_extension": ".py",
   "mimetype": "text/x-python",
   "name": "python",
   "nbconvert_exporter": "python",
   "pygments_lexer": "ipython3",
   "version": "3.8.8"
  }
 },
 "nbformat": 4,
 "nbformat_minor": 5
}
