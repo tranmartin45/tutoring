{
 "cells": [
  {
   "cell_type": "code",
   "execution_count": 11,
   "id": "removed-aberdeen",
   "metadata": {
    "scrolled": false
   },
   "outputs": [
    {
     "name": "stdout",
     "output_type": "stream",
     "text": [
      "What value do you want to identify:Ala\n"
     ]
    },
    {
     "data": {
      "text/plain": [
       "['A', 'N']"
      ]
     },
     "execution_count": 11,
     "metadata": {},
     "output_type": "execute_result"
    }
   ],
   "source": [
    "aa_dict = {\n",
    "    \"A\": \"Ala\",\n",
    "    \"R\": \"Asp\",\n",
    "    \"N\": \"Ala\",\n",
    "    \"D\": \"Asp\",\n",
    "    \"C\": \"Cys\",\n",
    "}\n",
    "\n",
    "input_value = input(\"What value do you want to identify:\")\n",
    "\n",
    "def Var(input_value, aa_dict):\n",
    "    value_store = []\n",
    "    for i, key in enumerate(aa_dict):\n",
    "        aa_dict[key]\n",
    "        if aa_dict[key] == input_value:\n",
    "            value_store.append(key)\n",
    "    return value_store\n",
    "\n",
    "Var(input_value, aa_dict)"
   ]
  },
  {
   "cell_type": "code",
   "execution_count": null,
   "id": "attached-clause",
   "metadata": {},
   "outputs": [],
   "source": []
  }
 ],
 "metadata": {
  "kernelspec": {
   "display_name": "Python 3",
   "language": "python",
   "name": "python3"
  },
  "language_info": {
   "codemirror_mode": {
    "name": "ipython",
    "version": 3
   },
   "file_extension": ".py",
   "mimetype": "text/x-python",
   "name": "python",
   "nbconvert_exporter": "python",
   "pygments_lexer": "ipython3",
   "version": "3.8.8"
  }
 },
 "nbformat": 4,
 "nbformat_minor": 5
}
