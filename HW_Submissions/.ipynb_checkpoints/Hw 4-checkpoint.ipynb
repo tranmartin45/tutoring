{
 "cells": [
  {
   "cell_type": "code",
   "execution_count": 2,
   "metadata": {},
   "outputs": [],
   "source": [
    "import sympy\n",
    "o1 = [4, 10, 10, 22,]\n",
    "o2 = [10, 4, 33, 1, 5]\n",
    "\n",
    "a = []\n",
    "b = []\n",
    "\n",
    "for i in o1:\n",
    "    if i not in a:\n",
    "        a.append(i)\n",
    "        \n",
    "for i in o2:\n",
    "    if i not in b:\n",
    "        b.append(i)\n"
   ]
  },
  {
   "cell_type": "code",
   "execution_count": 3,
   "metadata": {},
   "outputs": [
    {
     "data": {
      "text/plain": [
       "[4, 10, 22]"
      ]
     },
     "execution_count": 3,
     "metadata": {},
     "output_type": "execute_result"
    }
   ],
   "source": [
    "a"
   ]
  },
  {
   "cell_type": "code",
   "execution_count": 4,
   "metadata": {},
   "outputs": [
    {
     "data": {
      "text/plain": [
       "[10, 4, 33, 1, 5]"
      ]
     },
     "execution_count": 4,
     "metadata": {},
     "output_type": "execute_result"
    }
   ],
   "source": [
    "b"
   ]
  },
  {
   "cell_type": "code",
   "execution_count": null,
   "metadata": {},
   "outputs": [],
   "source": [
    "\n",
    "c = []\n",
    "e = []\n",
    "ac = 0\n",
    "bc = 0\n",
    "cd = True\n",
    "while cd is True:\n",
    "    try:\n",
    "        if a[ac] == b[bc]:\n",
    "            c.append(b[bc])\n",
    "            ac+=1\n",
    "            bc = 0\n",
    "        elif bc == (len(b) + 1):\n",
    "            ac+=1\n",
    "            bc = 0\n",
    "        else:\n",
    "            bc+=1\n",
    "    except IndexError:\n",
    "        print(\"Done\")\n",
    "        for i in c:\n",
    "            if i not in e:\n",
    "                e.append(i)\n",
    "        print(e)\n",
    "        cd = False\n",
    "    \n",
    "#test one variable through the other\n",
    "#else test next variable throughout the other"
   ]
  }
 ],
 "metadata": {
  "kernelspec": {
   "display_name": "Python 3",
   "language": "python",
   "name": "python3"
  },
  "language_info": {
   "codemirror_mode": {
    "name": "ipython",
    "version": 3
   },
   "file_extension": ".py",
   "mimetype": "text/x-python",
   "name": "python",
   "nbconvert_exporter": "python",
   "pygments_lexer": "ipython3",
   "version": "3.8.5"
  }
 },
 "nbformat": 4,
 "nbformat_minor": 5
}
