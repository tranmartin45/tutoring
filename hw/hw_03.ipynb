{
 "cells": [
  {
   "cell_type": "markdown",
   "metadata": {},
   "source": [
    "# Homework 03\n",
    "\n",
    "### For extra practice.\n",
    "\n",
    "1. **Sum of a range of numbers**\n",
    "\n",
    "Write a function, add_it_up(), that takes a single integer as input and returns the sum of the integers from zero to the input parameter.\n",
    "\n",
    "The function should return 0 if a non-integer is passed in.\n",
    "\n",
    "2. **Caesar Cipher**\n",
    "\n",
    "A Caesar cipher is a simple substitution cipher in which each letter of the plain text is substituted with a letter found by moving n places down the alphabet. For example, assume the input plain text is the following:\n",
    "\n",
    "    abcd xyz\n",
    "\n",
    "If the shift value, n, is 4, then the encrypted text would be the following:\n",
    "\n",
    "    efgh bcd\n",
    "    \n",
    "You are to write a function that accepts two arguments, a plain-text message and a number of letters to shift in the cipher. The function will return an encrypted string with all letters transformed and all punctuation and whitespace remaining unchanged.\n",
    "\n",
    "Note: You can assume the plain text is all lowercase ASCII except for whitespace and punctuation. The str methods will be particularly helpful in this problem (https://docs.python.org/3/library/stdtypes.html#str). Also, you may find the 'translate' function particularly useful."
   ]
  },
  {
   "cell_type": "code",
   "execution_count": null,
   "metadata": {},
   "outputs": [],
   "source": []
  }
 ],
 "metadata": {
  "kernelspec": {
   "display_name": "Python 3",
   "language": "python",
   "name": "python3"
  },
  "language_info": {
   "codemirror_mode": {
    "name": "ipython",
    "version": 3
   },
   "file_extension": ".py",
   "mimetype": "text/x-python",
   "name": "python",
   "nbconvert_exporter": "python",
   "pygments_lexer": "ipython3",
   "version": "3.8.5"
  }
 },
 "nbformat": 4,
 "nbformat_minor": 4
}
