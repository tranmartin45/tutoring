{
 "cells": [
  {
   "cell_type": "markdown",
   "metadata": {},
   "source": [
    "# Homework 2\n",
    "\n",
    "### Corresponding to lessons 3-9\n",
    "\n",
    "1. **Reverse lookup.** Looking up a value given the key of a dictionary is syntactically simple, val = d[key] to find the value corresponding to key in dictionary d. In Python, a reverse lookup, in which you are given a value and want to find the corresponding key(s) is not so syntactically simple and is furthermore slow compared to a lookup. Explain why.\n",
    "\n",
    "Write a function that does a reverse lookup. This function should take two arguments, a dictionary and a value, and return a list of all keys that have the value. Do you think the function should raise an exception if the value is not found in the dictionary, or should it instead return an empty list? There is no right answer to this question; you should just explain why you might want one or the other.\n",
    "\n",
    "2. **Longest common substring.** Write a function that takes two sequences and returns the longest common substring. A substring is a contiguous portion of a string.  For example:\n",
    "\n",
    "Substrings of `ATGCATAT`:\n",
    "\n",
    "    TGCA\n",
    "    T\n",
    "    TAT\n",
    "    \n",
    "Not substrings of `ATGCATAT`:\n",
    "\n",
    "    AGCA              # Skipped T\n",
    "    CCATA             # Added another C\n",
    "    Hello, world.     # Has nothing to do with the input sequence\n",
    "    \n",
    "There may be more than one longest common substring; you only need to return one of them.\n",
    "\n",
    "The call signature of the function should be\n",
    "\n",
    "```python\n",
    "longest_common_substring(s1, s2)\n",
    "```\n",
    "\n",
    "Here are some return values you should get.\n",
    "\n",
    "|Function call|Result |\n",
    "|:---|---:|\n",
    "|`longest_common_substring('ATGC', 'ATGCA')` | `'ATGC'`|\n",
    "|`longest_common_substring('GATGCCATGCA', 'ATGCC')` | `'ATGCC'`|\n",
    "|`longest_common_substring('ACGTGGAAAGCCA', 'GTACACACGTTTTGAGAGACAC')   `|`'ACGT'`|"
   ]
  }
 ],
 "metadata": {
  "kernelspec": {
   "display_name": "Python 3",
   "language": "python",
   "name": "python3"
  },
  "language_info": {
   "codemirror_mode": {
    "name": "ipython",
    "version": 3
   },
   "file_extension": ".py",
   "mimetype": "text/x-python",
   "name": "python",
   "nbconvert_exporter": "python",
   "pygments_lexer": "ipython3",
   "version": "3.8.5"
  }
 },
 "nbformat": 4,
 "nbformat_minor": 4
}
