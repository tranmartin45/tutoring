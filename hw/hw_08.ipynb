{
 "cells": [
  {
   "cell_type": "markdown",
   "metadata": {},
   "source": [
    "## Homework 8\n",
    "\n",
    "**1. background reading**\n",
    "\n",
    "Read over Lesson 6 in this series of notebooks here (https://bebi103a.github.io/lessons/06/index.html). This will provide you with an introduction to Numpy, Pandas, Bokeh, and Holoviews, some essential packages that we will continually use in the future.\n",
    "\n",
    "**2. multi-part question**\n",
    "\n",
    "a) Create a function to decode a password. This function should guess a password of any length which contains a mixture of lowercase and uppercase letters, numbers, and special characters. The random and string modules will be helpful for you here. Additionally, your function should return the number of tries that it took to successfully guess the password. For example, your code should look something like this:\n",
    "\n",
    "    def password_hacker():\n",
    "        [insert lines code here]\n",
    "        return password, number_of_tries\n",
    "    \n",
    "b) Then, write a \"for loop\" which randomly generates a password and uses your password_hacker function to guess the randomly generated password. Do this at least 10 times for passwords of different lengths (starting at 1 character, and incrementally increasing to 2, 3, 4, so on). Save the number of tries it took to successfully guess the password in a list or Numpy array (separately for each password length).\n",
    "\n",
    "c) Finally, use Bokeh or Holoviews to plot the number of tries it took to successfully guess the password for different password lengths. For example, your plot should look something like the file in this folder titled \"hw08_plot_example\". We can also go over this more in depth during the lesson next week."
   ]
  },
  {
   "cell_type": "markdown",
   "metadata": {},
   "source": [
    "Below is some code to show you show lists and Numpy arrays are different functionally in Python."
   ]
  },
  {
   "cell_type": "code",
   "execution_count": 3,
   "metadata": {},
   "outputs": [],
   "source": [
    "import numpy as np\n",
    "import random"
   ]
  },
  {
   "cell_type": "code",
   "execution_count": 8,
   "metadata": {},
   "outputs": [
    {
     "data": {
      "text/plain": [
       "5"
      ]
     },
     "execution_count": 8,
     "metadata": {},
     "output_type": "execute_result"
    }
   ],
   "source": [
    "random.randint(0,10)"
   ]
  },
  {
   "cell_type": "code",
   "execution_count": 17,
   "metadata": {},
   "outputs": [],
   "source": [
    "rand_array = np.array([[random.randint(0,10) for i in range(100)],\n",
    "                      [random.randint(0,10) for i in range(100)]])"
   ]
  },
  {
   "cell_type": "code",
   "execution_count": 18,
   "metadata": {},
   "outputs": [
    {
     "data": {
      "text/plain": [
       "array([[ 7,  0,  3,  8,  3,  6,  4,  7,  4,  5,  8, 10,  5,  2,  8,  6,\n",
       "         0,  1,  4, 10,  2,  9,  6,  6,  2,  8,  1, 10,  8,  0,  5,  7,\n",
       "         4,  9,  8,  7,  1,  6,  5,  2,  9,  7,  2, 10,  5, 10,  7,  5,\n",
       "         7,  7,  7,  9,  0,  4,  4,  4,  2,  2,  5,  7,  1,  0,  7,  4,\n",
       "         5,  9,  5,  7,  9,  3,  6,  4,  2,  9,  4, 10,  5,  7, 10,  3,\n",
       "         8,  9, 10,  2,  2,  3,  8,  5,  3,  1,  2,  6,  8, 10,  9, 10,\n",
       "        10,  8,  2, 10],\n",
       "       [10,  4,  9,  6,  5,  1, 10,  8,  5,  8,  3,  4,  0,  3,  9,  4,\n",
       "         5,  9,  9,  1, 10,  1,  8,  0,  7,  8,  7,  9,  2,  0,  1,  6,\n",
       "         5,  2,  4,  2,  1,  7,  4,  4,  5,  5,  8,  7,  5,  5,  9,  4,\n",
       "         2,  0,  5,  4, 10,  6,  2,  8,  0,  1,  4,  2, 10,  7,  0,  6,\n",
       "         1,  5, 10,  3,  6,  3, 10, 10,  1, 10, 10,  7, 10,  6,  1,  0,\n",
       "         6,  3,  1,  2,  6,  5,  1,  2,  9,  5,  0,  6,  9,  4,  3,  9,\n",
       "         1, 10,  7,  7]])"
      ]
     },
     "execution_count": 18,
     "metadata": {},
     "output_type": "execute_result"
    }
   ],
   "source": [
    "rand_array"
   ]
  },
  {
   "cell_type": "code",
   "execution_count": 19,
   "metadata": {},
   "outputs": [
    {
     "data": {
      "text/plain": [
       "array([[ True, False, False,  True, False,  True, False,  True, False,\n",
       "        False,  True,  True, False, False,  True,  True, False, False,\n",
       "        False,  True, False,  True,  True,  True, False,  True, False,\n",
       "         True,  True, False, False,  True, False,  True,  True,  True,\n",
       "        False,  True, False, False,  True,  True, False,  True, False,\n",
       "         True,  True, False,  True,  True,  True,  True, False, False,\n",
       "        False, False, False, False, False,  True, False, False,  True,\n",
       "        False, False,  True, False,  True,  True, False,  True, False,\n",
       "        False,  True, False,  True, False,  True,  True, False,  True,\n",
       "         True,  True, False, False, False,  True, False, False, False,\n",
       "        False,  True,  True,  True,  True,  True,  True,  True, False,\n",
       "         True],\n",
       "       [ True, False,  True,  True, False, False,  True,  True, False,\n",
       "         True, False, False, False, False,  True, False, False,  True,\n",
       "         True, False,  True, False,  True, False,  True,  True,  True,\n",
       "         True, False, False, False,  True, False, False, False, False,\n",
       "        False,  True, False, False, False, False,  True,  True, False,\n",
       "        False,  True, False, False, False, False, False,  True,  True,\n",
       "        False,  True, False, False, False, False,  True,  True, False,\n",
       "         True, False, False,  True, False,  True, False,  True,  True,\n",
       "        False,  True,  True,  True,  True,  True, False, False,  True,\n",
       "        False, False, False,  True, False, False, False,  True, False,\n",
       "        False,  True,  True, False, False,  True, False,  True,  True,\n",
       "         True]])"
      ]
     },
     "execution_count": 19,
     "metadata": {},
     "output_type": "execute_result"
    }
   ],
   "source": [
    "rand_array_boolean = rand_array > 5\n",
    "rand_array_boolean"
   ]
  },
  {
   "cell_type": "code",
   "execution_count": 20,
   "metadata": {},
   "outputs": [
    {
     "data": {
      "text/plain": [
       "(2, 100)"
      ]
     },
     "execution_count": 20,
     "metadata": {},
     "output_type": "execute_result"
    }
   ],
   "source": [
    "rand_array.shape"
   ]
  },
  {
   "cell_type": "code",
   "execution_count": 21,
   "metadata": {},
   "outputs": [
    {
     "data": {
      "text/plain": [
       "(2, 100)"
      ]
     },
     "execution_count": 21,
     "metadata": {},
     "output_type": "execute_result"
    }
   ],
   "source": [
    "rand_array_boolean.shape"
   ]
  },
  {
   "cell_type": "code",
   "execution_count": 22,
   "metadata": {},
   "outputs": [],
   "source": [
    "test_list = [1, 2, 3, 4]\n",
    "test_array = np.array([1, 2, 3, 4])"
   ]
  },
  {
   "cell_type": "code",
   "execution_count": 23,
   "metadata": {},
   "outputs": [
    {
     "data": {
      "text/plain": [
       "[4, 8, 12, 16]"
      ]
     },
     "execution_count": 23,
     "metadata": {},
     "output_type": "execute_result"
    }
   ],
   "source": [
    "test_list_mult = [4*i for i in test_list]\n",
    "test_list_mult"
   ]
  },
  {
   "cell_type": "code",
   "execution_count": 24,
   "metadata": {},
   "outputs": [
    {
     "data": {
      "text/plain": [
       "array([ 4,  8, 12, 16])"
      ]
     },
     "execution_count": 24,
     "metadata": {},
     "output_type": "execute_result"
    }
   ],
   "source": [
    "test_array*4"
   ]
  },
  {
   "cell_type": "code",
   "execution_count": 25,
   "metadata": {},
   "outputs": [
    {
     "data": {
      "text/plain": [
       "[1, 2, 3, 4, 1, 2, 3, 4, 1, 2, 3, 4, 1, 2, 3, 4]"
      ]
     },
     "execution_count": 25,
     "metadata": {},
     "output_type": "execute_result"
    }
   ],
   "source": [
    "test_list*4"
   ]
  },
  {
   "cell_type": "code",
   "execution_count": null,
   "metadata": {},
   "outputs": [],
   "source": []
  }
 ],
 "metadata": {
  "kernelspec": {
   "display_name": "Python 3",
   "language": "python",
   "name": "python3"
  },
  "language_info": {
   "codemirror_mode": {
    "name": "ipython",
    "version": 3
   },
   "file_extension": ".py",
   "mimetype": "text/x-python",
   "name": "python",
   "nbconvert_exporter": "python",
   "pygments_lexer": "ipython3",
   "version": "3.8.5"
  }
 },
 "nbformat": 4,
 "nbformat_minor": 4
}
