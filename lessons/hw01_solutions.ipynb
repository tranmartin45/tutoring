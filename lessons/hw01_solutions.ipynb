{
 "cells": [
  {
   "cell_type": "markdown",
   "metadata": {},
   "source": [
    "\\begin{align}\n",
    "\\frac{\\mathrm{d}P_i}{\\mathrm{d}t} &= \\beta_\\mathrm{P} - \\frac{\\alpha_\\mathrm{MP_i} \\, M\\,P_i}{1+\\left(N(t-\\tau_\\mathrm{N})/K\\right)^{n_\\mathrm{N}}} - \\beta_\\mathrm{SP}\\,P_i\\,\\frac{(S/T_\\mathrm{S})^{n_\\mathrm{S}}}{1 + (S/T_\\mathrm{S})^{n_\\mathrm{S}}} - \\alpha_\\mathrm{P_i}\\, P_i,\\\\[1em]\n",
    "\\frac{\\mathrm{d}P_a}{\\mathrm{d}t} &=  \\beta_\\mathrm{SP}\\,P_i\\,\\frac{(S/T_\\mathrm{S})^{n_\\mathrm{S}}}{1 + (S/T_\\mathrm{S})^{n_\\mathrm{S}}} - \\frac{\\alpha_\\mathrm{MP_a} \\, M\\,P_a}{1+\\left(N(t-\\tau_\\mathrm{N})/K\\right)^{n_\\mathrm{N}}},\\\\[1em]\n",
    "\\frac{\\mathrm{d}M}{\\mathrm{d}t} &= \\beta_\\mathrm{M}\\,P_a(t-\\tau_\\mathrm{M}) + \\beta_{M_i} - \\alpha_\\mathrm{SM}\\,S\\,M - \\alpha_M\\,M,\\\\[1em]\n",
    "\\frac{\\mathrm{d}W}{\\mathrm{d}t} &= \\beta_\\mathrm{W}\\,P_a(t-\\tau_\\mathrm{W}) - \\alpha_\\mathrm{W}\\,W,\\\\[1em]\n",
    "\\frac{\\mathrm{d}S}{\\mathrm{d}t} &= \\beta_\\mathrm{S}\\,\\theta(t) - \\alpha_\\mathrm{WS}\\,S\\,\\frac{(W/T_\\mathrm{W})^{n_\\mathrm{W}}}{1 + (W/T_\\mathrm{W})^{n_\\mathrm{W}}} - \\alpha_\\mathrm{S}\\,S.\n",
    "\\end{align}"
   ]
  },
  {
   "cell_type": "code",
   "execution_count": null,
   "metadata": {},
   "outputs": [],
   "source": []
  }
 ],
 "metadata": {
  "kernelspec": {
   "display_name": "Python 3",
   "language": "python",
   "name": "python3"
  },
  "language_info": {
   "codemirror_mode": {
    "name": "ipython",
    "version": 3
   },
   "file_extension": ".py",
   "mimetype": "text/x-python",
   "name": "python",
   "nbconvert_exporter": "python",
   "pygments_lexer": "ipython3",
   "version": "3.8.5"
  }
 },
 "nbformat": 4,
 "nbformat_minor": 4
}
