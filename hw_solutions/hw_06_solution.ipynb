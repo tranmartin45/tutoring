{
 "cells": [
  {
   "cell_type": "markdown",
   "metadata": {},
   "source": [
    "## Homework 06\n",
    "\n",
    "Generate a random number between 1 and 9 (including 1 and 9). Ask the user to guess the number, then tell them whether they guessed too low, too high, or exactly right.\n",
    "\n",
    "Extras:\n",
    "\n",
    "    Keep the game going until the user types “exit”\n",
    "    Keep track of how many guesses the user has taken, and when the game ends, print this out.\n",
    "    \n",
    "    \n",
    "Some tips:\n",
    "\n",
    "    You probably want to use a while loop to keep the game going until the user guesses right or quits.\n",
    "    Try to make the game robust by rejecting entries that aren't numbers or are not between 1 and 9."
   ]
  },
  {
   "cell_type": "code",
   "execution_count": 3,
   "metadata": {},
   "outputs": [
    {
     "name": "stdout",
     "output_type": "stream",
     "text": [
      "Enter a guess between 1 to 9: 8\n",
      "Too high\n",
      "Enter a guess between 1 to 9: 5\n",
      "Too high\n",
      "Enter a guess between 1 to 9: 3\n",
      "Too low\n",
      "Enter a guess between 1 to 9: 4\n",
      "Right!\n",
      "You took only 4 tries!\n"
     ]
    }
   ],
   "source": [
    "import random\n",
    "\n",
    "rd = random.randint(1,9)\n",
    "guess = 0\n",
    "c = 0\n",
    "while guess != rd and guess != \"exit\":\n",
    "    guess = input(\"Enter a guess between 1 to 9: \")\n",
    "\n",
    "    if guess == \"exit\":\n",
    "        break\n",
    "\n",
    "    guess = int(guess)\n",
    "    c += 1\n",
    "\n",
    "    if guess < rd:\n",
    "        print(\"Too low\")\n",
    "    elif guess > rd:\n",
    "        print(\"Too high\")\n",
    "    else:\n",
    "        print(\"Right!\")\n",
    "        print(\"You took only\", c, \"tries!\")"
   ]
  }
 ],
 "metadata": {
  "kernelspec": {
   "display_name": "Python 3",
   "language": "python",
   "name": "python3"
  },
  "language_info": {
   "codemirror_mode": {
    "name": "ipython",
    "version": 3
   },
   "file_extension": ".py",
   "mimetype": "text/x-python",
   "name": "python",
   "nbconvert_exporter": "python",
   "pygments_lexer": "ipython3",
   "version": "3.8.5"
  }
 },
 "nbformat": 4,
 "nbformat_minor": 4
}
