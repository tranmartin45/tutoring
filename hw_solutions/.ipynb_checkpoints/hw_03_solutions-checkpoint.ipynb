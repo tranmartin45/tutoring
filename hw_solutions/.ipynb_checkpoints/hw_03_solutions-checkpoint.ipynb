{
 "cells": [
  {
   "cell_type": "markdown",
   "metadata": {},
   "source": [
    "# Homework 03 solutions\n",
    "\n",
    "1. **Sum of a range of numbers**\n",
    "\n",
    "Write a function, add_it_up(), that takes a single integer as input and returns the sum of the integers from zero to the input parameter.\n",
    "\n",
    "The function should return 0 if a non-integer is passed in."
   ]
  },
  {
   "cell_type": "code",
   "execution_count": 1,
   "metadata": {},
   "outputs": [],
   "source": [
    "# integersums.py\n",
    "def add_it_up(n):\n",
    "    # for positive integers\n",
    "    if n > 0:\n",
    "        num = 1\n",
    "        num_sum = 0\n",
    "        while num < n + 1:\n",
    "            num_sum += num\n",
    "            num = num + 1\n",
    "    # for negative integers\n",
    "    else:\n",
    "        num = -1\n",
    "        num_sum = 0\n",
    "        while num > n - 1:\n",
    "            num_sum += num\n",
    "            num = num - 1\n",
    "    return num_sum"
   ]
  },
  {
   "cell_type": "code",
   "execution_count": 2,
   "metadata": {},
   "outputs": [
    {
     "data": {
      "text/plain": [
       "500500"
      ]
     },
     "execution_count": 2,
     "metadata": {},
     "output_type": "execute_result"
    }
   ],
   "source": [
    "add_it_up(1000)"
   ]
  },
  {
   "cell_type": "code",
   "execution_count": 3,
   "metadata": {},
   "outputs": [
    {
     "data": {
      "text/plain": [
       "-15"
      ]
     },
     "execution_count": 3,
     "metadata": {},
     "output_type": "execute_result"
    }
   ],
   "source": [
    "add_it_up(-5)"
   ]
  },
  {
   "cell_type": "code",
   "execution_count": 4,
   "metadata": {},
   "outputs": [
    {
     "name": "stdout",
     "output_type": "stream",
     "text": [
      "0\n",
      "-1\n",
      "-2\n",
      "-3\n",
      "-4\n"
     ]
    }
   ],
   "source": [
    "for i in range(0, -5, -1):\n",
    "    print(i)"
   ]
  },
  {
   "cell_type": "markdown",
   "metadata": {},
   "source": [
    "Another way to answer the problem would be to use a for loop instead of a while loop. Typically, you use for loops when you know when you must stop, whereas you would use a while loop if you don't know when you will need to stop."
   ]
  },
  {
   "cell_type": "code",
   "execution_count": 5,
   "metadata": {},
   "outputs": [],
   "source": [
    "def add_it_up(n):\n",
    "    # for positive integers\n",
    "    if n > 0:\n",
    "        num_sum = 0\n",
    "        for i in range(0, n+1, 1):\n",
    "            num_sum += i  \n",
    "    # for negative integers\n",
    "    else:\n",
    "        num_sum = 0\n",
    "        for i in range(0, n-1, -1):\n",
    "            num_sum += i\n",
    "    return num_sum"
   ]
  },
  {
   "cell_type": "code",
   "execution_count": 6,
   "metadata": {},
   "outputs": [
    {
     "data": {
      "text/plain": [
       "500500"
      ]
     },
     "execution_count": 6,
     "metadata": {},
     "output_type": "execute_result"
    }
   ],
   "source": [
    "add_it_up(1000)"
   ]
  },
  {
   "cell_type": "code",
   "execution_count": 7,
   "metadata": {},
   "outputs": [
    {
     "data": {
      "text/plain": [
       "-15"
      ]
     },
     "execution_count": 7,
     "metadata": {},
     "output_type": "execute_result"
    }
   ],
   "source": [
    "add_it_up(-5)"
   ]
  },
  {
   "cell_type": "markdown",
   "metadata": {},
   "source": [
    "You could also use list comprehension and the sum() function that is inherent in Python."
   ]
  },
  {
   "cell_type": "code",
   "execution_count": 8,
   "metadata": {},
   "outputs": [],
   "source": [
    "def add_it_up(n):\n",
    "    # for positive integers\n",
    "    if n > 0:\n",
    "        num_sum = sum([i for i in range(0, n+1, 1)])\n",
    "    # for negative integers\n",
    "    else:\n",
    "        num_sum = sum([i for i in range(0, n-1, -1)])\n",
    "    return num_sum"
   ]
  },
  {
   "cell_type": "code",
   "execution_count": 9,
   "metadata": {},
   "outputs": [
    {
     "data": {
      "text/plain": [
       "500500"
      ]
     },
     "execution_count": 9,
     "metadata": {},
     "output_type": "execute_result"
    }
   ],
   "source": [
    "add_it_up(1000)"
   ]
  },
  {
   "cell_type": "code",
   "execution_count": 10,
   "metadata": {},
   "outputs": [
    {
     "data": {
      "text/plain": [
       "-15"
      ]
     },
     "execution_count": 10,
     "metadata": {},
     "output_type": "execute_result"
    }
   ],
   "source": [
    "add_it_up(-5)"
   ]
  },
  {
   "cell_type": "markdown",
   "metadata": {},
   "source": [
    "2. **Caesar Cipher**\n",
    "\n",
    "A Caesar cipher is a simple substitution cipher in which each letter of the plain text is substituted with a letter found by moving n places down the alphabet. For example, assume the input plain text is the following:\n",
    "\n",
    "    abcd xyz\n",
    "\n",
    "If the shift value, n, is 4, then the encrypted text would be the following:\n",
    "\n",
    "    efgh bcd\n",
    "    \n",
    "You are to write a function that accepts two arguments, a plain-text message and a number of letters to shift in the cipher. The function will return an encrypted string with all letters transformed and all punctuation and whitespace remaining unchanged.\n",
    "\n",
    "Note: You can assume the plain text is all lowercase ASCII except for whitespace and punctuation. The str methods will be particularly helpful in this problem (https://docs.python.org/3/library/stdtypes.html#str). Also, you may find the 'translate' function particularly useful."
   ]
  },
  {
   "cell_type": "code",
   "execution_count": 34,
   "metadata": {},
   "outputs": [],
   "source": [
    "import string\n",
    "\n",
    "def caesar(plain_text, shift_num=1):\n",
    "    '''\n",
    "    Function that substitutes each letter of the word provided by a corresponding letter that is shift_num away.\n",
    "    Default shift value is 1.\n",
    "    \n",
    "    -\n",
    "    Parameters\n",
    "    -\n",
    "    plain_text: str\n",
    "    shift_num: int\n",
    "    \n",
    "    -\n",
    "    Output\n",
    "    -\n",
    "    plain_text.translate(trantab): str\n",
    "    \n",
    "    '''\n",
    "    letters = string.ascii_lowercase\n",
    "    mask = letters[shift_num:] + letters[:shift_num]\n",
    "    trantab = str.maketrans(letters, mask)\n",
    "    return plain_text.translate(trantab)"
   ]
  },
  {
   "cell_type": "markdown",
   "metadata": {},
   "source": [
    "Here you see that I have described the function in a long string that spans multiple lines immediately after I define the function. Therefore, when I enter caesar? in the following code cell, it will return this description. This can be very useful for later down the line, when you have predefined functions and you want to import them and use them - you can find out what the function needs and does without having to look at the inside the imported package to see the underlying code."
   ]
  },
  {
   "cell_type": "code",
   "execution_count": 35,
   "metadata": {},
   "outputs": [],
   "source": [
    "caesar?"
   ]
  },
  {
   "cell_type": "code",
   "execution_count": 36,
   "metadata": {},
   "outputs": [
    {
     "data": {
      "text/plain": [
       "'bteg'"
      ]
     },
     "execution_count": 36,
     "metadata": {},
     "output_type": "execute_result"
    }
   ],
   "source": [
    "caesar('asdf')"
   ]
  },
  {
   "cell_type": "code",
   "execution_count": 37,
   "metadata": {},
   "outputs": [
    {
     "data": {
      "text/plain": [
       "'ewhj'"
      ]
     },
     "execution_count": 37,
     "metadata": {},
     "output_type": "execute_result"
    }
   ],
   "source": [
    "caesar('asdf', shift_num=4)"
   ]
  }
 ],
 "metadata": {
  "kernelspec": {
   "display_name": "Python 3",
   "language": "python",
   "name": "python3"
  },
  "language_info": {
   "codemirror_mode": {
    "name": "ipython",
    "version": 3
   },
   "file_extension": ".py",
   "mimetype": "text/x-python",
   "name": "python",
   "nbconvert_exporter": "python",
   "pygments_lexer": "ipython3",
   "version": "3.8.5"
  }
 },
 "nbformat": 4,
 "nbformat_minor": 4
}
