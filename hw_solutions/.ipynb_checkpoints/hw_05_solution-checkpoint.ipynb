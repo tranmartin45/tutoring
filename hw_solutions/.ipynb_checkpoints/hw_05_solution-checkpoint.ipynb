{
 "cells": [
  {
   "cell_type": "markdown",
   "metadata": {},
   "source": [
    "## Homework 05\n",
    "\n",
    "### For practicing while loops, if statements, and test-driven development.\n",
    "\n",
    "Make a two-player Rock-Paper-Scissors game. (Hint: Ask for player plays (using input), compare them, print out a message of congratulations to the winner, and ask if the players want to start a new game)\n",
    "\n",
    "Remember the rules:\n",
    "\n",
    "Rock beats scissors\n",
    "Scissors beats paper\n",
    "Paper beats rock\n",
    "\n",
    "Some things that your game should do:\n",
    "\n",
    "    Ask the user again if they input something other than rock, scissors, or paper\n",
    "    Allow alternate forms of capitalization (Rock, RoCK, ROCK, rock should all work)\n",
    "    "
   ]
  },
  {
   "cell_type": "code",
   "execution_count": 2,
   "metadata": {},
   "outputs": [
    {
     "name": "stdout",
     "output_type": "stream",
     "text": [
      "What's your name?m\n",
      "And your name?t\n",
      "m, do yo want to choose rock, paper or scissors?ro\n",
      "t, do you want to choose rock, paper or scissors?pa\n",
      "Invalid input! You have not entered rock, paper or scissors, try again.\n"
     ]
    }
   ],
   "source": [
    "import sys\n",
    "\n",
    "user1 = input(\"What's your name?\")\n",
    "user2 = input(\"And your name?\")\n",
    "user1_answer = input(\"%s, do yo want to choose rock, paper or scissors?\" % user1)\n",
    "user2_answer = input(\"%s, do you want to choose rock, paper or scissors?\" % user2)\n",
    "\n",
    "def compare(u1, u2):\n",
    "    if u1 == u2:\n",
    "        return(\"It's a tie!\")\n",
    "    elif u1 == 'rock':\n",
    "        if u2 == 'scissors':\n",
    "            return(\"Rock wins!\")\n",
    "        else:\n",
    "            return(\"Paper wins!\")\n",
    "    elif u1 == 'scissors':\n",
    "        if u2 == 'paper':\n",
    "            return(\"Scissors win!\")\n",
    "        else:\n",
    "            return(\"Rock wins!\")\n",
    "    elif u1 == 'paper':\n",
    "        if u2 == 'rock':\n",
    "            return(\"Paper wins!\")\n",
    "        else:\n",
    "            return(\"Scissors win!\")\n",
    "    else:\n",
    "        return(\"Invalid input! You have not entered rock, paper or scissors, try again.\")\n",
    "        sys.exit()\n",
    "\n",
    "print(compare(user1_answer, user2_answer))"
   ]
  },
  {
   "cell_type": "code",
   "execution_count": 3,
   "metadata": {},
   "outputs": [
    {
     "name": "stdout",
     "output_type": "stream",
     "text": [
      "Please pick one:\n",
      "            rock\n",
      "            scissors\n",
      "            paper\n",
      "Player a: rock\n",
      "Player b: scissors\n",
      "player a wins.\n",
      "Do you want to play another game, yes or no?\n",
      "no\n",
      "game over.\n"
     ]
    }
   ],
   "source": [
    "print('''Please pick one:\n",
    "            rock\n",
    "            scissors\n",
    "            paper''')\n",
    "\n",
    "while True:\n",
    "    game_dict = {'rock': 1, 'scissors': 2, 'paper': 3}\n",
    "    player_a = str(input(\"Player a: \"))\n",
    "    player_b = str(input(\"Player b: \"))\n",
    "    a = game_dict.get(player_a)\n",
    "    b = game_dict.get(player_b)\n",
    "    dif = a - b\n",
    "\n",
    "    if dif in [-1, 2]:\n",
    "        print('player a wins.')\n",
    "        if str(input('Do you want to play another game, yes or no?\\n')) == 'yes':\n",
    "            continue\n",
    "        else:\n",
    "            print('game over.')\n",
    "            break\n",
    "    elif dif in [-2, 1]:\n",
    "        print('player b wins.')\n",
    "        if str(input('Do you want to play another game, yes or no?\\n')) == 'yes':\n",
    "            continue\n",
    "        else:\n",
    "            print('game over.')\n",
    "            break\n",
    "    else:\n",
    "        print('Draw.Please continue.')\n",
    "        print('')"
   ]
  },
  {
   "cell_type": "code",
   "execution_count": null,
   "metadata": {},
   "outputs": [],
   "source": []
  }
 ],
 "metadata": {
  "kernelspec": {
   "display_name": "Python 3",
   "language": "python",
   "name": "python3"
  },
  "language_info": {
   "codemirror_mode": {
    "name": "ipython",
    "version": 3
   },
   "file_extension": ".py",
   "mimetype": "text/x-python",
   "name": "python",
   "nbconvert_exporter": "python",
   "pygments_lexer": "ipython3",
   "version": "3.8.5"
  }
 },
 "nbformat": 4,
 "nbformat_minor": 4
}
