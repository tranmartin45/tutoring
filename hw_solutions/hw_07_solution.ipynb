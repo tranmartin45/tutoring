{
 "cells": [
  {
   "cell_type": "markdown",
   "metadata": {},
   "source": [
    "## Homework 07\n",
    "\n",
    "In a previous exercise, we’ve written a program that “knows” a number and asks a user to guess it.\n",
    "\n",
    "This time, we’re going to do exactly the opposite. You, the user, will have in your head a number between 0 and 100. The program will guess a number, and you, the user, will say whether it is too high, too low, or your number.\n",
    "\n",
    "At the end of this exchange, your program should print out how many guesses it took to get your number.\n",
    "\n",
    "As the writer of this program, you will have to choose how your program will strategically guess. A naive strategy can be to simply start the guessing at 1, and keep going (2, 3, 4, etc.) until you hit the number. But that’s not an optimal guessing strategy. An alternate strategy might be to guess 50 (right in the middle of the range), and then increase / decrease by 1 as needed. After you’ve written the program, try to find the optimal strategy!\n",
    "\n",
    "Also, this website might help you in finding an optimal solution: https://en.wikipedia.org/wiki/Binary_search_algorithm"
   ]
  },
  {
   "cell_type": "code",
   "execution_count": 14,
   "metadata": {},
   "outputs": [],
   "source": [
    "import math"
   ]
  },
  {
   "cell_type": "code",
   "execution_count": 19,
   "metadata": {},
   "outputs": [
    {
     "name": "stdout",
     "output_type": "stream",
     "text": [
      "50? yes\n",
      "It took 1 times to guess your number\n"
     ]
    }
   ],
   "source": [
    "def guess():\n",
    "    i = 0\n",
    "    # i is the lowest number in range of possible guess\n",
    "    j = 100\n",
    "    # j is the highest number in range of possible guesses\n",
    "    m = 50\n",
    "    # m is the middle number in range of possible guesses\n",
    "    counter = 1\n",
    "    # counter is the number of guesses take.\n",
    "    condition = input(f\"{str(m)}? \")\n",
    "    while condition != \"yes\":\n",
    "        counter += 1\n",
    "        if condition == \"too low\":\n",
    "            i = m + 1\n",
    "            print(i)\n",
    "        elif condition == \"too high\":\n",
    "            j = m - 1\n",
    "            print(j)\n",
    "        m = math.ceil((i + j) / 2)\n",
    "        condition = input(f\"{str(m)}? \")\n",
    "    print(\"It took\" , counter , \"times to guess your number\")\n",
    "guess()"
   ]
  }
 ],
 "metadata": {
  "kernelspec": {
   "display_name": "Python 3",
   "language": "python",
   "name": "python3"
  },
  "language_info": {
   "codemirror_mode": {
    "name": "ipython",
    "version": 3
   },
   "file_extension": ".py",
   "mimetype": "text/x-python",
   "name": "python",
   "nbconvert_exporter": "python",
   "pygments_lexer": "ipython3",
   "version": "3.8.5"
  }
 },
 "nbformat": 4,
 "nbformat_minor": 4
}
